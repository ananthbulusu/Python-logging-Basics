{
 "cells": [
  {
   "cell_type": "markdown",
   "id": "36c8c029",
   "metadata": {},
   "source": [
    "# Sample Logging Example"
   ]
  },
  {
   "cell_type": "code",
   "execution_count": null,
   "id": "182b865f",
   "metadata": {},
   "outputs": [],
   "source": [
    "import logging\n",
    "logging.warning('Watch out!')  # will print a message to the console\n",
    "logging.info('I told you so')  # will not print anything"
   ]
  },
  {
   "cell_type": "code",
   "execution_count": 9,
   "id": "c9a2fa23",
   "metadata": {},
   "outputs": [
    {
     "name": "stderr",
     "output_type": "stream",
     "text": [
      "WARNING:root:And this, too\n",
      "ERROR:root:And non-ASCII stuff, too, like Øresund and Malmö\n"
     ]
    }
   ],
   "source": [
    "import logging \n",
    "logging.basicConfig(level=logging.INFO)\n",
    "logging.debug('This message should go to the log file')\n",
    "logging.info('So should this')\n",
    "logging.warning('And this, too')\n",
    "logging.error('And non-ASCII stuff, too, like Øresund and Malmö')"
   ]
  },
  {
   "cell_type": "code",
   "execution_count": 1,
   "id": "58f28f55",
   "metadata": {},
   "outputs": [],
   "source": [
    "import logging as log\n",
    "\n",
    "log.basicConfig(level=log.DEBUG,filemode='w',filename='file.log',format='%(asctime)s - %(name)s - %(levelname)s - %(message)s')\n",
    "log.debug('This message should go to the log file')\n",
    "log.info('So should this')\n",
    "log.warning('And this, too')\n",
    "log.error('And non-ASCII stuff, too, like Øresund and Malmö')"
   ]
  },
  {
   "cell_type": "markdown",
   "id": "4c3520b6",
   "metadata": {},
   "source": []
  },
  {
   "cell_type": "code",
   "execution_count": 1,
   "id": "e990277d",
   "metadata": {},
   "outputs": [
    {
     "name": "stdout",
     "output_type": "stream",
     "text": [
      "Issue occured in the code - name 'str1' is not defined\n"
     ]
    }
   ],
   "source": [
    "try:\n",
    "    print(str1)\n",
    "except Exception as exp:\n",
    "    print('Issue occured in the code - ' + str(exp))"
   ]
  },
  {
   "cell_type": "markdown",
   "id": "7d64b268",
   "metadata": {},
   "source": [
    "# Integration between Errors and Logging \n",
    "Error and logging can be integrated using the Execution iformation. "
   ]
  },
  {
   "cell_type": "code",
   "execution_count": 2,
   "id": "87f4a15c",
   "metadata": {},
   "outputs": [
    {
     "name": "stderr",
     "output_type": "stream",
     "text": [
      "ERROR:root:Issue occured in the code - name 'str1' is not defined\n"
     ]
    }
   ],
   "source": [
    "import logging\n",
    "\n",
    "try:\n",
    "    print(str1)\n",
    "except Exception as exp:\n",
    "    logging.error('Issue occured in the code - ' + str(exp))\n"
   ]
  },
  {
   "cell_type": "code",
   "execution_count": 1,
   "id": "c3f9a4bd",
   "metadata": {},
   "outputs": [],
   "source": [
    "import logging as log\n",
    "\n",
    "log.basicConfig(level=log.DEBUG,filemode='w',filename='file.log',format='%(asctime)s - %(name)s - %(levelname)s - %(message)s')\n",
    "try:\n",
    "    print(str1)\n",
    "except Exception as exp:\n",
    "    log.error('Issue occured in the code - ' + str(exp),exc_info=True)"
   ]
  },
  {
   "cell_type": "code",
   "execution_count": null,
   "id": "5a5ed288",
   "metadata": {},
   "outputs": [],
   "source": []
  },
  {
   "cell_type": "markdown",
   "id": "ba66b877",
   "metadata": {},
   "source": [
    "# Custom Logger\n",
    "This will be used in production where multiple modules are involved. When multiple modules are involved, we cannot use the default logger.\n",
    "\n",
    "For the custom logger, we cannot use the basicconfig which we used in default logger. We need to create the config\n",
    "\n",
    "## Classes in Logger\n",
    "\n",
    "##### LOGGER --- LOGRECORD---HANDLER---Formatter\n",
    "Logger: Class whose objects willbe used in the application directly to call functions\n",
    "LoRecord: Loggers automatically create LogRecord objets that have all the information related to the event bing logged like logger name, the function, the linenumber, the message\n",
    "Handler: Handler send the LogRecod to the required output destination like to console or to file\n",
    "Formatter:  this is where the format of the output is specified\n",
    "\n",
    "\n",
    "\n",
    "#### Default logger is root. in this by default everything will be taken care and . \n",
    "#### But in Custom Logger, all the above classes needs to be defined manually. Logger needs to be created manually. LogRecord will be created by Logger"
   ]
  },
  {
   "cell_type": "markdown",
   "id": "dcc16a11",
   "metadata": {},
   "source": [
    "# Creating a Custom Logger"
   ]
  },
  {
   "cell_type": "code",
   "execution_count": 1,
   "id": "fa4c641a",
   "metadata": {},
   "outputs": [],
   "source": [
    "import logging\n",
    "\n",
    "#create a custom logger\n",
    "logger=logging.getLogger(__name__)\n",
    "\n",
    "#create Handlers ad set the level\n",
    "f_handler=logging.FileHandler('custom_logfile.log',mode='a')\n",
    "f_handler.setLevel(logging.ERROR)\n",
    "\n",
    "#create Formatter and add to handler\n",
    "f_format=logging.Formatter('%(asctime)s - %(name)s - %(levelname)s - %(message)s')\n",
    "f_handler.setFormatter(f_format)\n",
    "\n",
    "#add handler to logger\n",
    "logger.addHandler(f_handler)\n",
    "\n",
    "logger.error('This is an looged error')"
   ]
  },
  {
   "cell_type": "markdown",
   "id": "2114ab0a",
   "metadata": {},
   "source": [
    "\n",
    "# custom logging usign configuration file\n",
    "in production, the custom logging will be done in the above manner but the configuration will be read froma config file. FOr this a config file needs to be created.\n",
    "\n",
    "For ceating the config file 2 steps needs to be followed\n",
    "\n",
    "    step1: define all the objects like loggers, handlers, Formatter etc\n",
    "    step2: once the objects are defined, we need to configure them"
   ]
  },
  {
   "cell_type": "markdown",
   "id": "0c42d5e9",
   "metadata": {},
   "source": [
    "# config file\n",
    "######defininf the objects\n",
    "[loggers]\n",
    "keys=root,customLogger\n",
    "\n",
    "[handlers]\n",
    "keys=sampleHandler\n",
    "\n",
    "[formatters]\n",
    "keys=sampleFormatter\n",
    "\n",
    "#######configuring the objects\n",
    "\n",
    "[logger_root]\n",
    "level=DEBUG\n",
    "handlers=sampleHandler\n",
    "\n",
    "[logger_customLogger]\n",
    "level=DEBUG\n",
    "handlers=sampleHandler\n",
    "qualname=customLogger\n",
    "propagate=0\n",
    "\n",
    "[handler_sampleHandler]\n",
    "class=FileHandler\n",
    "level=DEBUG\n",
    "formatter=sampleFormatter\n",
    "args=('Custom_logging_from_file.log','w')\n",
    "\n",
    "[formatter_sampleFormatter]\n",
    "format=%(asctime)s - %(name)s - %(levelname)s - %(message)s"
   ]
  },
  {
   "cell_type": "code",
   "execution_count": 18,
   "id": "fac1e9fc",
   "metadata": {},
   "outputs": [],
   "source": [
    "#loading the config file\n",
    "\n",
    "import logging, logging.config\n",
    "\n",
    "logging.config.fileConfig(fname='custom_logging_config_file.config')"
   ]
  }
 ],
 "metadata": {
  "kernelspec": {
   "display_name": "Python 3",
   "language": "python",
   "name": "python3"
  },
  "language_info": {
   "codemirror_mode": {
    "name": "ipython",
    "version": 3
   },
   "file_extension": ".py",
   "mimetype": "text/x-python",
   "name": "python",
   "nbconvert_exporter": "python",
   "pygments_lexer": "ipython3",
   "version": "3.8.8"
  }
 },
 "nbformat": 4,
 "nbformat_minor": 5
}
